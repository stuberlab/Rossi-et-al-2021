{
 "cells": [
  {
   "cell_type": "code",
   "execution_count": 1,
   "metadata": {
    "code_folding": [
     0
    ]
   },
   "outputs": [
    {
     "data": {
      "text/html": [
       "<style>.container { width:100% !important; }</style>"
      ],
      "text/plain": [
       "<IPython.core.display.HTML object>"
      ]
     },
     "metadata": {},
     "output_type": "display_data"
    }
   ],
   "source": [
    "## load packages ##\n",
    "import numpy as np\n",
    "import matplotlib.pyplot as plt\n",
    "from pylab import *\n",
    "import scipy as sc\n",
    "from scipy import stats\n",
    "import seaborn as sns\n",
    "%matplotlib inline\n",
    "matplotlib.rcParams['pdf.fonttype'] = 42\n",
    "matplotlib.rcParams['font.sans-serif'] = \"Arial\"\n",
    "from IPython.core.display import display, HTML\n",
    "display(HTML(\"<style>.container { width:100% !important; }</style>\"))\n",
    "import os\n",
    "import csv\n",
    "import pandas as pd\n",
    "import warnings\n",
    "warnings.filterwarnings('ignore')"
   ]
  },
  {
   "cell_type": "code",
   "execution_count": 2,
   "metadata": {},
   "outputs": [
    {
     "data": {
      "image/png": "[encoded data removed]",
      "text/plain": [
       "<Figure size 288x324 with 1 Axes>"
      ]
     },
     "metadata": {
      "needs_background": "light"
     },
     "output_type": "display_data"
    }
   ],
   "source": [
    "## load single cell and HCR DEG data (calculated in R using Seurat) for YFP and TOM cells and Plot ##\n",
    "\n",
    "## Edit this ##\n",
    "seqdir=\"C:\\\\Users\\\\rossiadmin\\\\Dropbox (Stuber Lab)\\\\Mark\\\\LHA projection paper\\\\Data\\\\Fig2 seq\" ## location of file\n",
    "degfile='YFPvTOM_DEGs_ALL_UPDATED210130.csv' ## Generated by Seurat \n",
    "# hcr_degfile = 'HRC_seurat_deg_output.csv'\n",
    "\n",
    "# HCRdeg=pd.read_csv(os.path.join(seqdir,hcr_degfile))\n",
    "# HCRdeg = HCRdeg.replace(to_replace=['Vglut2','Vgat'],value=['Slc17a6','Slc32a1']) ## to maintain consistency between datasets\n",
    "\n",
    "p_thresh=1e-2 ## significance threshold for determining colors on plot\n",
    "degs_of_interest=['Pax6','Sostdc1','eyfp','Slc32a1','tdtomato','Slc17a6','Nptx2','Pdyn','Pitx2']\n",
    "# degs_of_interest=['Pax6','Sostdc1','YFP','Tomato','Nptx2','Pdyn','Pitx2']\n",
    "## List of genes to label on final plot used for plotting labels\n",
    "feature_use='avg_logFC' #'avg_logFC' or 'diff_pct'\n",
    "\n",
    "## Til here ##\n",
    "\n",
    "# load all data - currently not in use #\n",
    "# seqdegdf=pd.read_csv(os.path.join(seqdir,'Seurat_YFP_and_Tomato_data_all_DEGs.csv'))\n",
    "# seqdegdf.loc[seqdegdf.eyfp >1,'Fluor']='YFP'\n",
    "# seqdegdf.loc[seqdegdf.tdtomato >1,'Fluor']='TOM'\n",
    "\n",
    "# load DEG summary data from seurat output #\n",
    "seqdeg=pd.read_csv(os.path.join(seqdir,degfile))\n",
    "seqdeg['-log10p']=-log10(seqdeg['p_val_adj'])\n",
    "seqdeg['sig']= 'not sig'\n",
    "seqdeg.loc[seqdeg.p_val_adj < p_thresh, 'sig']='sig'\n",
    "seqdeg.loc[seqdeg.p_val_adj < p_thresh, 'label']=seqdeg['Unnamed: 0']\n",
    "seqdeg['diff_pct']=seqdeg['pct.1']-seqdeg['pct.2']\n",
    "seqdeg['label2']=0\n",
    "\n",
    "# HCRdeg['-log10p']=-log10(HCRdeg['p_val_adj'])\n",
    "# HCRdeg['sig']= 'not sig'\n",
    "# HCRdeg.loc[HCRdeg.p_val_adj < p_thresh, 'sig']='sig'\n",
    "# HCRdeg.loc[HCRdeg.p_val_adj < p_thresh, 'label']=HCRdeg['Unnamed: 0']\n",
    "# HCRdeg['diff_pct']=HCRdeg['pct.1']-HCRdeg['pct.2']\n",
    "# HCRdeg['label2']=0\n",
    "\n",
    "for deg in degs_of_interest:\n",
    "    seqdeg.loc[seqdeg['Unnamed: 0']==deg,'label2']=deg\n",
    "    seqdeg.loc[seqdeg['Unnamed: 0']==deg,'sig']='interest' \n",
    "    \n",
    "#     HCRdeg.loc[HCRdeg['Unnamed: 0']==deg,'label2']=deg\n",
    "#     HCRdeg.loc[HCRdeg['Unnamed: 0']==deg,'sig']='interest'\n",
    "\n",
    "#drop eyfp and tomato columns from dataframe\n",
    "seqdeg.drop([0,1],axis=0,inplace=True)\n",
    "# HCRdeg.drop([0,1],axis=0,inplace=True)\n",
    "\n",
    "dfsig=seqdeg[seqdeg['sig']=='sig']\n",
    "dfnotsig=seqdeg[seqdeg['sig']=='not sig']\n",
    "dfinterest=seqdeg[seqdeg['sig']=='interest']\n",
    "\n",
    "# dfinterestHCR=HCRdeg[HCRdeg['sig']=='interest']\n",
    "\n",
    "fig,ax = plt.subplots(figsize=(4,4.5))\n",
    "# ax.set(yscale='log')\n",
    "sns.scatterplot(data=dfsig,x=feature_use,y='-log10p',color='darkorange', zorder=2,s=40)\n",
    "sns.scatterplot(data=dfnotsig,x=feature_use,y='-log10p',color='gray', zorder=1,s=40)\n",
    "sns.scatterplot(data=dfinterest,x=feature_use,y='-log10p',color='forestgreen', zorder=3,s=50)\n",
    "# sns.scatterplot(data=dfinterestHCR,x=feature_use,y='-log10p',color='red', zorder=4,s=70)\n",
    "plt.xlim(-1.25,1.25)\n",
    "# plt.ylim(0,100)\n",
    "yline=-log10(p_thresh)\n",
    "ax.axhline(yline, zorder=0,color='k',linestyle='--')\n",
    "\n",
    "degs=seqdeg['label2'].values.tolist() #change to 'label' to plot labels for all sig genes. label2 for only degs of interest\n",
    "xloc=seqdeg[feature_use].values.tolist()\n",
    "yloc=seqdeg['-log10p'].values.tolist()\n",
    "# degs=[x for x in degs if str(x) != 'nan']\n",
    "ymin,ymax=ax.get_ylim()\n",
    "xmin,xmax=ax.get_xlim()\n",
    "plt.legend(bbox_to_anchor=(1.05, 1), loc=2, borderaxespad=0.)\n",
    "plt.xticks(fontsize=11)\n",
    "plt.yticks(fontsize=11)\n",
    "plt.xlabel(feature_use,fontsize=11)\n",
    "plt.ylabel('-log10(p)',fontsize=11)\n",
    "\n",
    "# ax.fill_between((.25, -.25),-5,60,facecolor='lightgray',zorder=0)\n",
    "\n",
    "for i,deg in enumerate(degs):\n",
    "    if deg != 0:\n",
    "        plt.text(xloc[i]+(xmax/5), yloc[i]+(ymax/50), deg, horizontalalignment='right', fontsize=12, color='black', weight='regular')\n",
    "fig.tight_layout()\n",
    "plt.savefig('SEQ_DATA_DEGs_YFPvTOM_volcano_FINAL.pdf',dpi=300,format='pdf',bbox_inches='tight')\n",
    "plt.show()"
   ]
  }
 ],
 "metadata": {
  "kernelspec": {
   "display_name": "Python 2",
   "language": "python",
   "name": "python2"
  },
  "language_info": {
   "codemirror_mode": {
    "name": "ipython",
    "version": 2
   },
   "file_extension": ".py",
   "mimetype": "text/x-python",
   "name": "python",
   "nbconvert_exporter": "python",
   "pygments_lexer": "ipython2",
   "version": "2.7.16"
  }
 },
 "nbformat": 4,
 "nbformat_minor": 2
}
