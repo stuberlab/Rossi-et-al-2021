{
 "cells": [
  {
   "cell_type": "code",
   "execution_count": 1,
   "metadata": {
    "code_folding": [
     0
    ]
   },
   "outputs": [],
   "source": [
    "# import warnings\n",
    "# warnings.filterwarnings('ignore')\n",
    "import numpy as np\n",
    "# np.set_printoptions(threshold=np.nan)\n",
    "import matplotlib.pyplot as plt\n",
    "%matplotlib inline\n",
    "import pandas as pd\n",
    "# import sklearn\n",
    "# from sklearn import svm\n",
    "from sklearn.svm import SVC\n",
    "# from sklearn.grid_search import GridSearchCV\n",
    "from sklearn.model_selection import GridSearchCV\n",
    "import time\n",
    "from sklearn import preprocessing\n",
    "import csv\n",
    "import time"
   ]
  },
  {
   "cell_type": "code",
   "execution_count": 10,
   "metadata": {
    "scrolled": true
   },
   "outputs": [
    {
     "name": "stdout",
     "output_type": "stream",
     "text": [
      "C:\\Users\\rossiadmin\\Dropbox (Stuber Lab)\\Mark\\LHA projection paper\\Data\\Fig4 ephys\n"
     ]
    }
   ],
   "source": [
    "%cd \"C:\\Users\\rossiadmin\\Dropbox (Stuber Lab)\\Mark\\LHA projection paper\\Data\\Fig4 ephys\"\n",
    "data=pd.read_excel('Summary_for_svm_truncated.xlsx')"
   ]
  },
  {
   "cell_type": "code",
   "execution_count": 12,
   "metadata": {
    "code_folding": [
     0
    ],
    "scrolled": true
   },
   "outputs": [],
   "source": [
    "## SVM function ###\n",
    "def ephys_svm(filename,predict,params,iterations,test_data,df):\n",
    "    parameters = [{'C': [.001,.01,.1,1,10,100,1000], 'kernel': ['linear']},\n",
    "                  {'C': [.001,.01,.1,1,10,100,1000], 'gamma': [.001,.01,.1,1,10,100,1000], 'kernel': ['rbf']}]  \n",
    "#     df=summarydata[summarydata.label != label_tag]\n",
    "\n",
    "    ##normalize columns (except for 'predict' column)##\n",
    "    df_norm=df[params]\n",
    "    df_predict=df[predict]\n",
    "    df_norm=pd.DataFrame(preprocessing.scale(df_norm))\n",
    "    df_predict.reset_index(drop=True, inplace=True)\n",
    "    df_norm.reset_index(drop=True, inplace=True)\n",
    "    df=pd.concat([df_norm,df_predict],axis=1)\n",
    "    df=df.dropna()\n",
    "    headers=params+predict\n",
    "    df.columns=headers\n",
    "\n",
    "#     combined=params+predict\n",
    "#     df=df[combined].dropna()\n",
    "    \n",
    "    pred_score=np.nan*np.zeros((iterations))\n",
    "    rand_score=np.nan*np.zeros((iterations))\n",
    "    for i in range(iterations):\n",
    "        print '\\nRun #: ', i+1\n",
    "        ## if splits result in insufficient data to classify, skip run and move on ##\n",
    "        try:\n",
    "            ##randomly subset df into test and train sets\n",
    "            msk = np.random.rand(len(df))>test_data\n",
    "            train = df[msk]\n",
    "            ##use gridsearch to select optimal parameters for each run\n",
    "            clf = GridSearchCV(SVC(), parameters,cv=10,n_jobs=-1,iid=False)\n",
    "            train_labels=train[predict].values\n",
    "            c,r=train_labels.shape\n",
    "            train_labels=train_labels.reshape(c,)\n",
    "            clf.fit(train[params], train_labels)\n",
    "            print 'prediction accuracy = ', clf.best_score_\n",
    "            pred_score[i]=(clf.best_score_)*100\n",
    "            ##random array of 1s and 0s for testing classifier\n",
    "            rand_group=pd.DataFrame(np.random.randint(2,size=train.shape[0]))\n",
    "            clf.fit(train[params], rand_group[0])\n",
    "            print 'shuffled accuracy = ', clf.best_score_\n",
    "            rand_score[i]=(clf.best_score_)*100\n",
    "        except Exception:\n",
    "            pass\n",
    "    plt.figure(figsize=(5,5))\n",
    "    ax=plt.subplot(111)\n",
    "    n = np.arange(1,len(pred_score)+1) / np.float(len(pred_score))\n",
    "    Xs = np.sort(pred_score)\n",
    "    plt.step(Xs,n,color='g',label='Model prediction',alpha=0.7,linewidth=2)\n",
    "    n2= np.arange(1,len(rand_score)+1) / np.float(len(rand_score))\n",
    "    Xs2= np.sort(rand_score)\n",
    "    plt.step(Xs2,n,color='r',label='Random',alpha=0.7,linewidth=2)\n",
    "#     ax.set_axis_bgcolor('white')\n",
    "    plt.xlabel('Decoding accuracy %',fontsize=14)\n",
    "    plt.ylabel('Proportion of runs',fontsize=14)\n",
    "    plt.legend(fontsize=14,loc=2)\n",
    "    timestr = time.strftime(\"%Y%m%d-%H%M%S\")\n",
    "    \n",
    "    plt.savefig(filename+'_'+timestr+'_'+str(iterations)+str('iter_')+str(test_data)+'test_data_prediction_accuracy_CDF.pdf')\n",
    "    np.savetxt(filename+'_'+timestr+'_'+str(iterations)+str('iter_')+str(test_data)+'_prediction_accuracy.csv',pred_score,delimiter=',')\n",
    "    np.savetxt(filename+'_'+timestr+'_'+str(iterations)+str('iter_')+str(test_data)+'_RANDOM_prediction_accuracy.csv',rand_score,delimiter=',')\n",
    "    plt.show()\n",
    "    \n",
    "    #save parameters to csv\n",
    "    master_parameters=['Classify on '+ str(params), '\\nPredict '+str(predict), '\\nCells used = '+str(condition[0]),\n",
    "               '\\nIterations = '+str(iterations), '\\nProportion test data = '+str(test_data), \n",
    "                '\\nSearch Parameters = '+str(parameters)]\n",
    "    with open(filename+'_'+timestr+'_parameters','wb') as myfile:\n",
    "        out=csv.writer(myfile,delimiter=' ')\n",
    "        out.writerow(master_parameters)\n",
    "    print \"mean decoding accuracy = \", np.nanmean(pred_score)\n",
    "    print \"mean RANDOM decoding accuracy = \",np.nanmean(rand_score)\n",
    "#     return pred_score,rand_score"
   ]
  },
  {
   "cell_type": "code",
   "execution_count": 24,
   "metadata": {
    "scrolled": true
   },
   "outputs": [],
   "source": [
    "## Fig 4K and S6I(fed): SVM decoding - use ad lib excitability params to decode projection target\n",
    "\n",
    "## set SVM params, choose params to classify on, and subset cells ##\n",
    "\n",
    "#### EDIT THIS ####\n",
    "filename='Ad_lib_predict_projection'\n",
    "predict=['projection'] ## variable to classify (e.g. projection, group, condition)\n",
    "condition=['ad lib'] ## only used for reference in parameter file\n",
    "params=['spikes/min whole cell','rheo (pA)','AP Thresh','AP duration (s)','APH dur','sum spikes'] \n",
    "\n",
    "summarydata=pd.DataFrame(data)\n",
    "summarydata=summarydata.replace(['LHb','VTA'],[1,0])\n",
    "summarydata=summarydata.replace(['ad lib','fasted'],[0,1])\n",
    "# label_tag=0  ## Choose 1 for ad lib and 0 for fasted; or 1 for VTA and 0 for LHb ##\n",
    "\n",
    "df=summarydata[summarydata.Condition == 0]  #change param as input data\n",
    "\n",
    "iterations=1000\n",
    "test_data=.2  #defines split for test/train sets\n",
    "#####\n",
    "\n",
    "### Run SVM for eYFP+ cells to predict group based on ephys params ###\n",
    "start = time.time()\n",
    "ephys_svm(filename,predict,params,iterations,test_data,df)\n",
    "end = time.time()\n",
    "print(end - start)"
   ]
  },
  {
   "cell_type": "code",
   "execution_count": null,
   "metadata": {},
   "outputs": [],
   "source": [
    "%cd \"C:\\Users\\rossiadmin\\Dropbox (Stuber Lab)\\Mark\\LHA projection paper\\Data\\FigS6 ephys supp\""
   ]
  },
  {
   "cell_type": "code",
   "execution_count": 26,
   "metadata": {},
   "outputs": [],
   "source": [
    "## Fig S6I (Fast) ##\n",
    "\n",
    "#### EDIT THIS ####\n",
    "filename='Fasted_predict_projection'\n",
    "predict=['projection'] ## variable to classify (e.g. projection, group, condition)\n",
    "condition=['fasted'] ## only used for reference in parameter file\n",
    "params=['spikes/min whole cell','rheo (pA)','AP Thresh','AP duration (s)','APH dur','sum spikes'] \n",
    "\n",
    "summarydata=pd.DataFrame(data)\n",
    "summarydata=summarydata.replace(['LHb','VTA'],[1,0])\n",
    "summarydata=summarydata.replace(['ad lib','fasted'],[0,1])\n",
    "# label_tag=1  ## Choose 1 for ad lib and 0 for fasted; or 1 for VTA and 0 for LHb ##\n",
    "df=summarydata[summarydata.Condition == 1]  #change param as input data\n",
    "iterations=1000\n",
    "test_data=.2  #defines split for test/train sets\n",
    "#####\n",
    "\n",
    "### Run SVM for eYFP+ cells to predict group based on rheo and max latency ###\n",
    "start = time.time()\n",
    "ephys_svm(filename,predict,params,iterations,test_data,df)\n",
    "end = time.time()\n",
    "print(end - start)"
   ]
  },
  {
   "cell_type": "code",
   "execution_count": 30,
   "metadata": {},
   "outputs": [],
   "source": [
    "## Fig S6I (All cells) ##\n",
    "\n",
    "#### EDIT THIS ####\n",
    "filename='All_Cells_predict_satiety_ALL_PARAMS'\n",
    "predict=['projection'] ## variable to classify (e.g. projection, group, condition)\n",
    "condition=['All Cells'] ## only used for reference in parameter file\n",
    "params=['spikes/min whole cell','rheo (pA)','AP Thresh','AP duration (s)','APH dur','sum spikes'] \n",
    "\n",
    "summarydata=pd.DataFrame(data)\n",
    "summarydata=summarydata.replace(['LHb','VTA'],[1,0])\n",
    "summarydata=summarydata.replace(['ad lib','fasted'],[0,1])\n",
    "# label_tag=1  ## Choose 1 for ad lib and 0 for fasted; or 1 for VTA and 0 for LHb ##\n",
    "\n",
    "# df=summarydata[summarydata.Condition == 1]  #change param as input data\n",
    "df=summarydata\n",
    "\n",
    "iterations=1000\n",
    "test_data=.2  #defines split for test/train sets\n",
    "#####\n",
    "\n",
    "### Run SVM for eYFP+ cells to predict group based on rheo and max latency ###\n",
    "start = time.time()\n",
    "ephys_svm(filename,predict,params,iterations,test_data,df)\n",
    "end = time.time()\n",
    "print(end - start)"
   ]
  }
 ],
 "metadata": {
  "kernelspec": {
   "display_name": "Python 2",
   "language": "python",
   "name": "python2"
  },
  "language_info": {
   "codemirror_mode": {
    "name": "ipython",
    "version": 2
   },
   "file_extension": ".py",
   "mimetype": "text/x-python",
   "name": "python",
   "nbconvert_exporter": "python",
   "pygments_lexer": "ipython2",
   "version": "2.7.16"
  }
 },
 "nbformat": 4,
 "nbformat_minor": 1
}
